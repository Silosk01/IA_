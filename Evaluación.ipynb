{
  "nbformat": 4,
  "nbformat_minor": 0,
  "metadata": {
    "colab": {
      "provenance": [],
      "authorship_tag": "ABX9TyPMn9AXXXHx/eLkV132Wb39",
      "include_colab_link": true
    },
    "kernelspec": {
      "name": "python3",
      "display_name": "Python 3"
    },
    "language_info": {
      "name": "python"
    }
  },
  "cells": [
    {
      "cell_type": "markdown",
      "metadata": {
        "id": "view-in-github",
        "colab_type": "text"
      },
      "source": [
        "<a href=\"https://colab.research.google.com/github/Silosk01/IA_/blob/main/Evaluaci%C3%B3n.ipynb\" target=\"_parent\"><img src=\"https://colab.research.google.com/assets/colab-badge.svg\" alt=\"Open In Colab\"/></a>"
      ]
    },
    {
      "cell_type": "code",
      "source": [
        "def compuerta_and(x0, x1):\n",
        "    return int(x0 and x1)\n",
        "\n",
        "def compuerta_or(x0, x1):\n",
        "    return int(x0 or x1)\n",
        "\n",
        "def main():\n",
        "    while True:\n",
        "        print(\"\\nPrograma de simulación de compuertas lógicas AND y OR\")\n",
        "\n",
        "        # Solicita valores para X0 y X1\n",
        "        x0 = int(input(\"Introduce el valor para X0 (0 o 1): \"))\n",
        "        x1 = int(input(\"Introduce el valor para X1 (0 o 1): \"))\n",
        "\n",
        "        # Calcula y muestra resultados\n",
        "        resultado_and = compuerta_and(x0, x1)\n",
        "        resultado_or = compuerta_or(x0, x1)\n",
        "\n",
        "        print(f\"\\nResultados para X0 = {x0} y X1 = {x1}:\")\n",
        "        print(f\"Compuerta AND: {resultado_and}\")\n",
        "        print(f\"Compuerta OR: {resultado_or}\")\n",
        "\n",
        "        # Pregunta si se desea introducir mas de datos\n",
        "        continuar = input(\"\\n¿Deseas introducir otro conjunto de datos? (s/n): \").lower()\n",
        "        if continuar != 's':\n",
        "            print(\"Fin!\")\n",
        "            break\n",
        "\n",
        "if __name__ == \"__main__\":\n",
        "    main()"
      ],
      "metadata": {
        "colab": {
          "base_uri": "https://localhost:8080/"
        },
        "id": "iigikNB7RmMl",
        "outputId": "c19cae61-e2d7-4a96-b5c0-d012c85ce88f"
      },
      "execution_count": null,
      "outputs": [
        {
          "output_type": "stream",
          "name": "stdout",
          "text": [
            "\n",
            "Programa de simulación de compuertas lógicas AND y OR\n",
            "Introduce el valor para X0 (0 o 1): 1\n",
            "Introduce el valor para X1 (0 o 1): 0\n",
            "\n",
            "Resultados para X0 = 1 y X1 = 0:\n",
            "Compuerta AND: 0\n",
            "Compuerta OR: 1\n"
          ]
        }
      ]
    }
  ]
}