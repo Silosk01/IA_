{
  "nbformat": 4,
  "nbformat_minor": 0,
  "metadata": {
    "colab": {
      "provenance": [],
      "authorship_tag": "ABX9TyMp+hoVGhbl5jDzMN7xOGew",
      "include_colab_link": true
    },
    "kernelspec": {
      "name": "python3",
      "display_name": "Python 3"
    },
    "language_info": {
      "name": "python"
    }
  },
  "cells": [
    {
      "cell_type": "markdown",
      "metadata": {
        "id": "view-in-github",
        "colab_type": "text"
      },
      "source": [
        "<a href=\"https://colab.research.google.com/github/Silosk01/IA_/blob/main/Practica_1.ipynb\" target=\"_parent\"><img src=\"https://colab.research.google.com/assets/colab-badge.svg\" alt=\"Open In Colab\"/></a>"
      ]
    },
    {
      "cell_type": "code",
      "execution_count": null,
      "metadata": {
        "id": "MuliWbWnND1O"
      },
      "outputs": [],
      "source": [
        "import cv2\n",
        "import numpy as np\n",
        "import matplotlib.pyplot as plt\n",
        "\n",
        "# Leer imagen\n",
        "imagen = cv2.imread('C:/Users/reyna/Desktop/programas/cubo.jpg')\n",
        "gris = cv2.cvtColor(imagen,cv2.COLOR_BGR2GRAY)\n",
        "bordes = cv2.Canny(imagen, 100, 200)\n",
        "# Muestra imagen en una ventana\n",
        "cv2.imshow('Imagen Original', imagen)\n",
        "cv2.imshow('Imagen color', gris)\n",
        "cv2.imshow('Imagen gris bordes', bordes)\n",
        "# Espera hasta que el usuario presione una tecla\n",
        "cv2.waitKey(0)\n",
        "# Cierra todas las ventanas\n",
        "cv2.destroyAllWindows()"
      ]
    }
  ]
}