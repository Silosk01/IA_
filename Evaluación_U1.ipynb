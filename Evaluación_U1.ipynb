{
  "nbformat": 4,
  "nbformat_minor": 0,
  "metadata": {
    "colab": {
      "provenance": [],
      "authorship_tag": "ABX9TyPMQszkjpeSTipfxw9QmHkb",
      "include_colab_link": true
    },
    "kernelspec": {
      "name": "python3",
      "display_name": "Python 3"
    },
    "language_info": {
      "name": "python"
    }
  },
  "cells": [
    {
      "cell_type": "markdown",
      "metadata": {
        "id": "view-in-github",
        "colab_type": "text"
      },
      "source": [
        "<a href=\"https://colab.research.google.com/github/Silosk01/IA_/blob/main/Evaluaci%C3%B3n_U1.ipynb\" target=\"_parent\"><img src=\"https://colab.research.google.com/assets/colab-badge.svg\" alt=\"Open In Colab\"/></a>"
      ]
    },
    {
      "cell_type": "markdown",
      "source": [
        "Compuerta AND\n",
        "\n",
        "---\n",
        "\n",
        "\n",
        "\n",
        "00=0\n",
        "\n",
        "01=0\n",
        "\n",
        "10=0\n",
        "\n",
        "11=1\n",
        "\n"
      ],
      "metadata": {
        "id": "wSYBnJZ-31S5"
      }
    },
    {
      "cell_type": "code",
      "source": [
        "def comp_and():\n",
        "  while True:\n",
        "    x1 = int(input('Ingrese el primer valor (0 - 1): '))\n",
        "    x2 = int(input('Ingrese segundo valor (0 - 1):'))\n",
        "    w1=2\n",
        "    w2=2\n",
        "    s=-3\n",
        "    s= s+ (x1 * w1 + x2 * w2)\n",
        "\n",
        "    if s >= 0:\n",
        "      y = 1\n",
        "    else:\n",
        "      y = 0\n",
        "    print(f'{x1} AND {x2} = {y}')\n",
        "\n",
        "    #Menú\n",
        "    sigue = input(\"¿Desea realizar otra consulta? (sí/no): \").lower()\n",
        "    if sigue != 'sí':\n",
        "      print(\"Saliendo de la compuerta AND...\")\n",
        "      break\n",
        "\n",
        "comp_and()"
      ],
      "metadata": {
        "colab": {
          "base_uri": "https://localhost:8080/"
        },
        "id": "gRjDzZ0UyojR",
        "outputId": "9b5f147c-0af1-41b0-ea85-478f8e4676f5"
      },
      "execution_count": 4,
      "outputs": [
        {
          "output_type": "stream",
          "name": "stdout",
          "text": [
            "Ingrese el primer valor (0 - 1): 0\n",
            "Ingrese segundo valor (0 - 1):0\n",
            "0 AND 0 = 0\n",
            "¿Desea realizar otra consulta? (sí/no): sí\n",
            "Ingrese el primer valor (0 - 1): 1\n",
            "Ingrese segundo valor (0 - 1):0\n",
            "1 AND 0 = 0\n",
            "¿Desea realizar otra consulta? (sí/no): sí\n",
            "Ingrese el primer valor (0 - 1): 1\n",
            "Ingrese segundo valor (0 - 1):1\n",
            "1 AND 1 = 1\n",
            "¿Desea realizar otra consulta? (sí/no): no\n",
            "Saliendo de la compuerta AND...\n"
          ]
        }
      ]
    },
    {
      "cell_type": "markdown",
      "source": [
        "Compuerta OR\n",
        "\n",
        "---\n",
        "\n",
        "\n",
        "\n",
        "00=0\n",
        "\n",
        "01=1\n",
        "\n",
        "10=1\n",
        "\n",
        "11=1"
      ],
      "metadata": {
        "id": "reyuahtq8XWo"
      }
    },
    {
      "cell_type": "code",
      "source": [
        "def comp_or():\n",
        "    while True:\n",
        "      x1 = int(input('Ingrese el primer valor (0 - 1):'))\n",
        "      x2 = int(input('Ingrese el segundo valor (0 - 1):'))\n",
        "      w1=2\n",
        "      w2=2\n",
        "      s=-1\n",
        "      s = s + x1 * w1 + x2 * w2 #suma\n",
        "\n",
        "      if s >= 0:\n",
        "        y = 1\n",
        "      else:\n",
        "        y = 0\n",
        "\n",
        "      print(f'{x1} OR {x2} = {y}')\n",
        "\n",
        "      # Menú\n",
        "      sigue = input(\"¿Desea hacer otra consulta? (sí/no): \").lower()\n",
        "      if sigue != 'sí':\n",
        "        print(\"Saliendo de la compuerta OR...\")\n",
        "        break\n",
        "\n",
        "comp_or()\n",
        "\n"
      ],
      "metadata": {
        "colab": {
          "base_uri": "https://localhost:8080/"
        },
        "id": "qBkfpnkI8tQm",
        "outputId": "88f938a5-65e7-44a6-abb4-ff5644ca41fe"
      },
      "execution_count": 5,
      "outputs": [
        {
          "output_type": "stream",
          "name": "stdout",
          "text": [
            "Ingrese el primer valor (0 - 1):0\n",
            "Ingrese el segundo valor (0 - 1):0\n",
            "0 OR 0 = 0\n",
            "¿Desea hacer otra consulta? (sí/no): sí\n",
            "Ingrese el primer valor (0 - 1):1\n",
            "Ingrese el segundo valor (0 - 1):0\n",
            "1 OR 0 = 1\n",
            "¿Desea hacer otra consulta? (sí/no): sí\n",
            "Ingrese el primer valor (0 - 1):1\n",
            "Ingrese el segundo valor (0 - 1):1\n",
            "1 OR 1 = 1\n",
            "¿Desea hacer otra consulta? (sí/no): no\n",
            "Saliendo de la compuerta OR...\n"
          ]
        }
      ]
    }
  ]
}