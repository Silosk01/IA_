{
  "nbformat": 4,
  "nbformat_minor": 0,
  "metadata": {
    "colab": {
      "provenance": [],
      "authorship_tag": "ABX9TyMTOgYQ/dc0Y1V7jfgxSX1T",
      "include_colab_link": true
    },
    "kernelspec": {
      "name": "python3",
      "display_name": "Python 3"
    },
    "language_info": {
      "name": "python"
    }
  },
  "cells": [
    {
      "cell_type": "markdown",
      "metadata": {
        "id": "view-in-github",
        "colab_type": "text"
      },
      "source": [
        "<a href=\"https://colab.research.google.com/github/Silosk01/IA_/blob/main/Evaluaci%C3%B3n_U1.ipynb\" target=\"_parent\"><img src=\"https://colab.research.google.com/assets/colab-badge.svg\" alt=\"Open In Colab\"/></a>"
      ]
    },
    {
      "cell_type": "markdown",
      "source": [
        "Compuerta AND\n",
        "\n",
        "---\n",
        "\n",
        "\n",
        "\n",
        "00=0\n",
        "\n",
        "01=0\n",
        "\n",
        "10=0\n",
        "\n",
        "11=1\n",
        "\n",
        "---\n",
        "\n",
        "Compuerta OR\n",
        "\n",
        "---\n",
        "\n",
        "\n",
        "\n",
        "00=0\n",
        "\n",
        "01=1\n",
        "\n",
        "10=1\n",
        "\n",
        "11=1"
      ],
      "metadata": {
        "id": "f5UkCR11fco1"
      }
    },
    {
      "cell_type": "code",
      "source": [
        "def comp_puertas():\n",
        "    while True:\n",
        "        while True:\n",
        "            x1 = int(input('Ingrese el primer valor (0-1): '))\n",
        "            x2 = int(input('Ingrese el segundo valor (0-1): '))\n",
        "            if (x1 not in [0, 1]) or (x2 not in [0, 1]):\n",
        "                print(\"Error: Solo se permiten valores 0 o 1\")\n",
        "            else:\n",
        "                break\n",
        "\n",
        "        # Compuerta AND\n",
        "        print(\"Resultados compuerta AND\")\n",
        "        w1_and = 2\n",
        "        w2_and = 2\n",
        "        s_and = -3\n",
        "\n",
        "        s = s_and + (x1 * w1_and + x2 * w2_and)\n",
        "        if s >= 0:\n",
        "            y = 1\n",
        "        else:\n",
        "            y = 0\n",
        "        print(f'{x1} AND {x2} = {y}')\n",
        "\n",
        "        # Compuerta OR\n",
        "        print(\"Resultados compuerta OR\")\n",
        "        w1_or = 2\n",
        "        w2_or = 2\n",
        "        s_or = -1\n",
        "\n",
        "        s = s_or + x1 * w1_or + x2 * w2_or\n",
        "        if s >= 0:\n",
        "            y = 1\n",
        "        else:\n",
        "            y = 0\n",
        "        print(f'{x1} OR {x2} = {y}')\n",
        "\n",
        "\n",
        "        # Menú\n",
        "        sigue = input(\"¿Desea realizar otra consulta? (sí/no) \").lower()\n",
        "        if sigue != 'sí':\n",
        "            print(\"Fin...\")\n",
        "            break\n",
        "\n",
        "comp_puertas()"
      ],
      "metadata": {
        "colab": {
          "base_uri": "https://localhost:8080/"
        },
        "id": "D9WX7awbfeOW",
        "outputId": "d2383422-4a4a-4d53-95e6-31527513a95c"
      },
      "execution_count": 8,
      "outputs": [
        {
          "output_type": "stream",
          "name": "stdout",
          "text": [
            "Ingrese el primer valor (0-1): 0\n",
            "Ingrese el segundo valor (0-1): 0\n",
            "Resultados compuerta AND\n",
            "0 AND 0 = 0\n",
            "Resultados compuerta OR\n",
            "0 OR 0 = 0\n",
            "¿Desea realizar otra consulta? (sí/no) sí\n",
            "Ingrese el primer valor (0-1): 1\n",
            "Ingrese el segundo valor (0-1): 0\n",
            "Resultados compuerta AND\n",
            "1 AND 0 = 0\n",
            "Resultados compuerta OR\n",
            "1 OR 0 = 1\n",
            "¿Desea realizar otra consulta? (sí/no) sí\n",
            "Ingrese el primer valor (0-1): 0\n",
            "Ingrese el segundo valor (0-1): 1\n",
            "Resultados compuerta AND\n",
            "0 AND 1 = 0\n",
            "Resultados compuerta OR\n",
            "0 OR 1 = 1\n",
            "¿Desea realizar otra consulta? (sí/no) sí\n",
            "Ingrese el primer valor (0-1): 1\n",
            "Ingrese el segundo valor (0-1): 1\n",
            "Resultados compuerta AND\n",
            "1 AND 1 = 1\n",
            "Resultados compuerta OR\n",
            "1 OR 1 = 1\n",
            "¿Desea realizar otra consulta? (sí/no) no\n",
            "Fin...\n"
          ]
        }
      ]
    }
  ]
}