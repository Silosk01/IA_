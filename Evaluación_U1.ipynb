{
  "nbformat": 4,
  "nbformat_minor": 0,
  "metadata": {
    "colab": {
      "provenance": [],
      "authorship_tag": "ABX9TyMOH9m6obR9PSdvUzeSQLBa",
      "include_colab_link": true
    },
    "kernelspec": {
      "name": "python3",
      "display_name": "Python 3"
    },
    "language_info": {
      "name": "python"
    }
  },
  "cells": [
    {
      "cell_type": "markdown",
      "metadata": {
        "id": "view-in-github",
        "colab_type": "text"
      },
      "source": [
        "<a href=\"https://colab.research.google.com/github/Silosk01/IA_/blob/main/Evaluaci%C3%B3n_U1.ipynb\" target=\"_parent\"><img src=\"https://colab.research.google.com/assets/colab-badge.svg\" alt=\"Open In Colab\"/></a>"
      ]
    },
    {
      "cell_type": "markdown",
      "source": [
        "Compuerta AND\n",
        "\n",
        "---\n",
        "\n",
        "\n",
        "\n",
        "00=0\n",
        "\n",
        "01=0\n",
        "\n",
        "10=0\n",
        "\n",
        "11=1\n",
        "\n",
        "---\n",
        "\n",
        "Compuerta OR\n",
        "\n",
        "---\n",
        "\n",
        "\n",
        "\n",
        "00=0\n",
        "\n",
        "01=1\n",
        "\n",
        "10=1\n",
        "\n",
        "11=1"
      ],
      "metadata": {
        "id": "11c13OR7MTma"
      }
    },
    {
      "cell_type": "code",
      "source": [
        "while True:\n",
        "    x = [0,0]\n",
        "    while True:\n",
        "        x[0]= int(input(f\"Ingrese el primer valor (0-1):\"))\n",
        "        x[1] = int(input(f\"Ingrese el segundo valor (0-1):\"))\n",
        "        if (x[0] not in [0, 1]) or (x[1] not in [0, 1]):\n",
        "            print(\"Error, solo se permite valores 0 o 1.\")\n",
        "        else:\n",
        "            break\n",
        "\n",
        "    #Compuerta AND\n",
        "    print(\"Resultados compuerta AND\")\n",
        "    w=[1,1]\n",
        "    s=0\n",
        "    y=0\n",
        "    for i in range(0,2):\n",
        "        s=s+x[i]*w[i]\n",
        "    y=1 if s>= 2 else 00\n",
        "    print(x[0],'AND',x[1],'=',y)\n",
        "\n",
        "    #Compuerta OR\n",
        "    print(\"Resultados compuerta OR\")\n",
        "    s=0\n",
        "    for i in range(0,2):\n",
        "        s=s+x[i]*w[i]\n",
        "    y=0 if s<= 0 else 1\n",
        "    print(x[0],'OR',x[1],'=',y)\n",
        "\n",
        "    #Menú\n",
        "    sigue = input(\"¿Desea realizar otra consulta? (sí/no): \").lower()\n",
        "    if sigue != 'sí':\n",
        "        print(\"Fin.\")\n",
        "        break"
      ],
      "metadata": {
        "colab": {
          "base_uri": "https://localhost:8080/"
        },
        "id": "XC86stSFRS7B",
        "outputId": "0f25ddfa-21db-4f4e-dbd1-2442398a8aa8"
      },
      "execution_count": 11,
      "outputs": [
        {
          "output_type": "stream",
          "name": "stdout",
          "text": [
            "Ingrese el primer valor (0-1):0\n",
            "Ingrese el segundo valor (0-1):0\n",
            "Resultados compuerta AND\n",
            "0 AND 0 = 0\n",
            "Resultados compuerta OR\n",
            "0 OR 0 = 0\n",
            "¿Desea realizar otra consulta? (sí/no): sí\n",
            "Ingrese el primer valor (0-1):1\n",
            "Ingrese el segundo valor (0-1):0\n",
            "Resultados compuerta AND\n",
            "1 AND 0 = 0\n",
            "Resultados compuerta OR\n",
            "1 OR 0 = 1\n",
            "¿Desea realizar otra consulta? (sí/no): sí\n",
            "Ingrese el primer valor (0-1):1\n",
            "Ingrese el segundo valor (0-1):1\n",
            "Resultados compuerta AND\n",
            "1 AND 1 = 1\n",
            "Resultados compuerta OR\n",
            "1 OR 1 = 1\n",
            "¿Desea realizar otra consulta? (sí/no): no\n",
            "Fin.\n"
          ]
        }
      ]
    }
  ]
}