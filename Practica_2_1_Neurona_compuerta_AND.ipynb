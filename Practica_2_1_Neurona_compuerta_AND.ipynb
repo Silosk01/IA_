{
  "nbformat": 4,
  "nbformat_minor": 0,
  "metadata": {
    "colab": {
      "provenance": [],
      "authorship_tag": "ABX9TyM+NQJtAX7RHUfRLTX68Us7",
      "include_colab_link": true
    },
    "kernelspec": {
      "name": "python3",
      "display_name": "Python 3"
    },
    "language_info": {
      "name": "python"
    }
  },
  "cells": [
    {
      "cell_type": "markdown",
      "metadata": {
        "id": "view-in-github",
        "colab_type": "text"
      },
      "source": [
        "<a href=\"https://colab.research.google.com/github/Silosk01/IA_/blob/main/Practica_2_1_Neurona_compuerta_AND.ipynb\" target=\"_parent\"><img src=\"https://colab.research.google.com/assets/colab-badge.svg\" alt=\"Open In Colab\"/></a>"
      ]
    },
    {
      "cell_type": "markdown",
      "source": [
        "Practica 2.1 - Neurona compuerta AND"
      ],
      "metadata": {
        "id": "zOygI_PpMUIP"
      }
    },
    {
      "cell_type": "code",
      "source": [
        "def compuerta_or(a, b):\n",
        "    resultado = 1 if a + b > 0 else 0\n",
        "    print(f\"{a} OR {b} = {resultado}\")\n",
        "    return resultado\n",
        "\n",
        "compuerta_or(0, 0)\n",
        "compuerta_or(0, 1)\n",
        "compuerta_or(1, 0)\n",
        "compuerta_or(1, 1)"
      ],
      "metadata": {
        "colab": {
          "base_uri": "https://localhost:8080/"
        },
        "id": "dx61-K5dMVdI",
        "outputId": "2657a38e-575c-4a98-832d-d02687a58c48"
      },
      "execution_count": 1,
      "outputs": [
        {
          "output_type": "stream",
          "name": "stdout",
          "text": [
            "0 OR 0 = 0\n",
            "0 OR 1 = 1\n",
            "1 OR 0 = 1\n",
            "1 OR 1 = 1\n"
          ]
        },
        {
          "output_type": "execute_result",
          "data": {
            "text/plain": [
              "1"
            ]
          },
          "metadata": {},
          "execution_count": 1
        }
      ]
    }
  ]
}