{
  "nbformat": 4,
  "nbformat_minor": 0,
  "metadata": {
    "colab": {
      "provenance": [],
      "authorship_tag": "ABX9TyMd7h74c7k+ftTtBiqndHeQ",
      "include_colab_link": true
    },
    "kernelspec": {
      "name": "python3",
      "display_name": "Python 3"
    },
    "language_info": {
      "name": "python"
    }
  },
  "cells": [
    {
      "cell_type": "markdown",
      "metadata": {
        "id": "view-in-github",
        "colab_type": "text"
      },
      "source": [
        "<a href=\"https://colab.research.google.com/github/Silosk01/IA_/blob/main/Practica_2_1_Neurona_compuerta_AND.ipynb\" target=\"_parent\"><img src=\"https://colab.research.google.com/assets/colab-badge.svg\" alt=\"Open In Colab\"/></a>"
      ]
    },
    {
      "cell_type": "code",
      "execution_count": 1,
      "metadata": {
        "colab": {
          "base_uri": "https://localhost:8080/"
        },
        "id": "YQqHm7afJPo9",
        "outputId": "70f86343-8fd1-415c-a9c8-9521bf687400"
      },
      "outputs": [
        {
          "output_type": "stream",
          "name": "stdout",
          "text": [
            "0 AND 1 = 0\n"
          ]
        }
      ],
      "source": [
        "x = [0, 1]\n",
        "w = [1, 1]\n",
        "s = 0\n",
        "y = 0\n",
        "\n",
        "for i in range(2):\n",
        "    s += x[i] * w[i]\n",
        "\n",
        "y = 1 if s >= 0 else 0\n",
        "print(x[0], 'AND', x[1], '=', y)"
      ]
    }
  ]
}